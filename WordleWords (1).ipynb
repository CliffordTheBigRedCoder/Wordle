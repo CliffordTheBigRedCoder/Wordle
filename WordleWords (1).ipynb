{
  "nbformat": 4,
  "nbformat_minor": 0,
  "metadata": {
    "colab": {
      "name": "WordleWords.ipynb",
      "provenance": [],
      "collapsed_sections": []
    },
    "kernelspec": {
      "name": "python3",
      "display_name": "Python 3"
    },
    "language_info": {
      "name": "python"
    }
  },
  "cells": [
    {
      "cell_type": "markdown",
      "source": [
        "Word Source"
      ],
      "metadata": {
        "id": "hzoEB_qRSSAt"
      }
    },
    {
      "cell_type": "code",
      "source": [
        "from os import truncate\n",
        "f = open(\"words.txt\")\n",
        "words = f.readlines()\n",
        "f.close()\n",
        "print(words[:10])\n",
        "print(len(words))"
      ],
      "metadata": {
        "colab": {
          "base_uri": "https://localhost:8080/"
        },
        "id": "0AKRswhVSRy5",
        "outputId": "e01161ae-e81e-4032-8dcf-b07ce1beade5"
      },
      "execution_count": 31,
      "outputs": [
        {
          "output_type": "stream",
          "name": "stdout",
          "text": [
            "['A\\n', \"A's\\n\", \"AA's\\n\", \"AB's\\n\", \"ABM's\\n\", \"AC's\\n\", \"ACTH's\\n\", \"AI's\\n\", \"AIDS's\\n\", \"AM's\\n\"]\n",
            "99171\n"
          ]
        }
      ]
    },
    {
      "cell_type": "markdown",
      "source": [
        "Word Sanitation (Leaves only words using letters A-Z fully capitalising and 5 letters long)"
      ],
      "metadata": {
        "id": "zruSx3DeXmoM"
      }
    },
    {
      "cell_type": "code",
      "source": [
        "for i in range (0,len(words)):\n",
        "  word = words[i]\n",
        "  word = word[0:len(word)-1]\n",
        "  word = word.upper()\n",
        "  words[i] = word\n",
        "\n",
        "usable_words = []\n",
        "letters = [\"A\",\"B\",\"C\",\"D\",\"E\",\"F\",\"G\",\"H\",\"I\",\"J\",\"K\",\"L\",\"M\",\"N\",\"O\",\"P\",\"Q\",\"R\",\"S\",\"T\",\"U\",\"V\",\"W\",\"X\",\"Y\",\"Z\"]\n",
        "for i in words:\n",
        "  valid = True\n",
        "  if len(i) == 5:\n",
        "    for char in i:\n",
        "      if char not in letters:\n",
        "        valid = False\n",
        "        break\n",
        "    if valid:\n",
        "      usable_words.append(i)\n",
        "\n",
        "print(usable_words[:10])\n",
        "print(len(usable_words))\n"
      ],
      "metadata": {
        "colab": {
          "base_uri": "https://localhost:8080/"
        },
        "id": "ZJIOW0-AUV_g",
        "outputId": "060850f4-19e5-4d5f-de5b-53fa3b4fa9fc"
      },
      "execution_count": 32,
      "outputs": [
        {
          "output_type": "stream",
          "name": "stdout",
          "text": [
            "['AARON', 'ABBAS', 'ABDUL', 'ABNER', 'ABRAM', 'ABUJA', 'ACCRA', 'ACRUX', 'ACTON', 'ACUFF']\n",
            "6071\n"
          ]
        }
      ]
    },
    {
      "cell_type": "markdown",
      "source": [
        "Saves words to text file"
      ],
      "metadata": {
        "id": "N2qhinwTXv3t"
      }
    },
    {
      "cell_type": "code",
      "source": [
        "f = open(\"usable_words.txt\", \"w\")\n",
        "for i in usable_words:\n",
        "  f.write(i)\n",
        "  f.write(\"\\n\")\n",
        "f.close()"
      ],
      "metadata": {
        "id": "WB576UacXbAr"
      },
      "execution_count": 28,
      "outputs": []
    }
  ]
}